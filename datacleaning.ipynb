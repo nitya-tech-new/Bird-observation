{
 "cells": [
  {
   "cell_type": "code",
   "execution_count": 9,
   "metadata": {},
   "outputs": [],
   "source": [
    "from openpyxl import load_workbook\n",
    "\n",
    "# Load the workbook\n",
    "class load_forest:\n",
    "    def workbooks(self):\n",
    "        self.workbook = load_workbook(\"Bird_Monitoring_Data_FOREST.xlsx\")\n",
    "        for sheet_name in self.workbook.sheetnames:\n",
    "            sheet = self.workbook[sheet_name]\n",
    "            if sheet.max_row == 1 and sheet.max_column == 1 and sheet.cell(1, 1).value is None:\n",
    "                self.workbook.remove(sheet)\n",
    "        self.workbook.save(\"forest.xlsx\")\n",
    "\n"
   ]
  },
  {
   "cell_type": "code",
   "execution_count": 8,
   "metadata": {},
   "outputs": [],
   "source": [
    "class load_grass:\n",
    "    def workload(self):\n",
    "        self.workbook = load_workbook(\"Bird_Monitoring_Data_GRASSLAND.xlsx\")\n",
    "        for sheet_name in self.workbook.sheetnames:\n",
    "            sheet = self.workbook[sheet_name]\n",
    "        if sheet.max_row == 1 and sheet.max_column == 1 and sheet.cell(1, 1).value is None:\n",
    "            self.workbook.remove(sheet)# Save the workbook\n",
    "        self.workbook.save(\"grass.xlsx\")\n"
   ]
  },
  {
   "cell_type": "code",
   "execution_count": 3,
   "metadata": {},
   "outputs": [],
   "source": [
    "import pandas as pd\n",
    "class sheet_add:\n",
    "    def read_all_sheets(self, path):\n",
    "        df_list = []\n",
    "        xls = pd.ExcelFile(path)\n",
    "        for sheet_name in xls.sheet_names:\n",
    "            df = pd.read_excel(xls, sheet_name=sheet_name).copy()  # Copy to avoid warning\n",
    "            df['Sheet'] = sheet_name\n",
    "            df_list.append(df)\n",
    "        self.df1 = pd.concat(df_list, ignore_index=True)\n",
    "        return self.df1\n",
    "\n",
    "# Read and tag both datasets\n",
    "class mergedf():\n",
    "    def add(self):\n",
    "        sa=sheet_add()\n",
    "        df_forest = sa.read_all_sheets(\"forest.xlsx\")\n",
    "        df_grassland = sa.read_all_sheets(\"grass.xlsx\")\n",
    "        return pd.concat([df_forest, df_grassland])\n"
   ]
  }
 ],
 "metadata": {
  "kernelspec": {
   "display_name": "Python 3",
   "language": "python",
   "name": "python3"
  },
  "language_info": {
   "codemirror_mode": {
    "name": "ipython",
    "version": 3
   },
   "file_extension": ".py",
   "mimetype": "text/x-python",
   "name": "python",
   "nbconvert_exporter": "python",
   "pygments_lexer": "ipython3",
   "version": "3.12.3"
  }
 },
 "nbformat": 4,
 "nbformat_minor": 2
}
